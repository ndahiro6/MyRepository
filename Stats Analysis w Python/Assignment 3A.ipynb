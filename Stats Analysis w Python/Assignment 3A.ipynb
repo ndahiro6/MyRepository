{
 "cells": [
  {
   "cell_type": "code",
   "execution_count": 2,
   "metadata": {},
   "outputs": [],
   "source": [
    "from scipy.stats import expon\n",
    "import numpy as np\n",
    "import matplotlib as mpl\n",
    "import matplotlib.pyplot as plt\n",
    "import seaborn as sns\n",
    "\n",
    "def get_service_times_blackbox(n):\n",
    "    # Return service times of n tellers\n",
    "    rv = expon(scale=10)\n",
    "    return rv.rvs(size=n)"
   ]
  },
  {
   "cell_type": "code",
   "execution_count": 3,
   "metadata": {},
   "outputs": [
    {
     "name": "stdout",
     "output_type": "stream",
     "text": [
      "[ 0.3430337   7.418737    3.76028983 23.55052457  1.07136283  1.2619786\n",
      "  6.4491129   1.63929362  4.1783831   7.27862944  4.21698794 18.29883831\n",
      "  2.03820715  6.34476656  1.57652366  3.97531523  7.969637    9.50807907\n",
      "  4.49079323  5.14875127]\n"
     ]
    }
   ],
   "source": [
    "print(get_service_times_blackbox(20))"
   ]
  },
  {
   "cell_type": "code",
   "execution_count": 4,
   "metadata": {},
   "outputs": [],
   "source": [
    "def average_get_service(n):\n",
    "    x=sum(get_service_times_blackbox(n))\n",
    "        \n",
    "    return x/n"
   ]
  },
  {
   "cell_type": "code",
   "execution_count": 5,
   "metadata": {},
   "outputs": [
    {
     "name": "stdout",
     "output_type": "stream",
     "text": [
      "9.567399840976096\n"
     ]
    }
   ],
   "source": [
    "print(average_get_service(20))"
   ]
  },
  {
   "cell_type": "code",
   "execution_count": 8,
   "metadata": {},
   "outputs": [],
   "source": [
    "def histogram_for_average(m):\n",
    "    x=[]\n",
    "    for i in range (0,m):\n",
    "        y=average_get_service(100)\n",
    "        x.append(y)\n",
    "    return x   #plt.hist(x, density=True) "
   ]
  },
  {
   "cell_type": "code",
   "execution_count": 10,
   "metadata": {},
   "outputs": [
    {
     "data": {
      "text/plain": [
       "(array([0.00053544, 0.        , 0.00428355, 0.00749622, 0.01177977,\n",
       "        0.01552788, 0.03159119, 0.05086718, 0.07014316, 0.10012802,\n",
       "        0.15153065, 0.1959725 , 0.25058778, 0.3068094 , 0.35125125,\n",
       "        0.38070067, 0.40265387, 0.40104754, 0.4005121 , 0.382307  ,\n",
       "        0.34375504, 0.30948662, 0.26183211, 0.20828771, 0.17401929,\n",
       "        0.15206609, 0.1156559 , 0.0754976 , 0.06585961, 0.04337096,\n",
       "        0.03319753, 0.01499243, 0.01606332, 0.01124432, 0.004819  ,\n",
       "        0.00428355, 0.00214178, 0.00053544, 0.00107089, 0.00053544]),\n",
       " array([ 6.64093839,  6.82769929,  7.01446019,  7.20122109,  7.38798199,\n",
       "         7.57474289,  7.76150379,  7.94826469,  8.13502559,  8.32178649,\n",
       "         8.50854739,  8.69530829,  8.88206919,  9.06883009,  9.25559099,\n",
       "         9.44235189,  9.62911279,  9.81587369, 10.00263459, 10.18939549,\n",
       "        10.37615639, 10.56291729, 10.74967819, 10.93643909, 11.12319999,\n",
       "        11.30996089, 11.49672179, 11.68348269, 11.87024359, 12.05700449,\n",
       "        12.24376539, 12.43052629, 12.61728719, 12.80404809, 12.99080899,\n",
       "        13.17756989, 13.36433079, 13.55109169, 13.73785259, 13.92461349,\n",
       "        14.11137439]),\n",
       " <BarContainer object of 40 artists>)"
      ]
     },
     "execution_count": 10,
     "metadata": {},
     "output_type": "execute_result"
    },
    {
     "data": {
      "image/png": "[encoded data removed]",
      "text/plain": [
       "<Figure size 432x288 with 1 Axes>"
      ]
     },
     "metadata": {
      "needs_background": "light"
     },
     "output_type": "display_data"
    }
   ],
   "source": [
    "x = np.linspace(0,20,100)\n",
    " \n",
    "#Creating a Function.\n",
    "def normal_dist(x , mean , sd):\n",
    "    prob_density = (1/(sd*(2*np.pi)**0.5)) * np.exp(-0.5*((x-mean)/sd)**2)\n",
    "    return prob_density\n",
    " \n",
    "\n",
    "#Apply function to the data.\n",
    "y1 = histogram_for_average(10000)\n",
    "y2 = normal_dist(x,10,1)\n",
    "#Plotting the Results\n",
    "#plt.plot(x,y1)\n",
    "plt.plot(x,y2)\n",
    "plt.hist(y1, density=True, bins=40)"
   ]
  },
  {
   "cell_type": "code",
   "execution_count": null,
   "metadata": {},
   "outputs": [],
   "source": []
  },
  {
   "cell_type": "code",
   "execution_count": null,
   "metadata": {},
   "outputs": [],
   "source": []
  }
 ],
 "metadata": {
  "kernelspec": {
   "display_name": "Python 3",
   "language": "python",
   "name": "python3"
  },
  "language_info": {
   "codemirror_mode": {
    "name": "ipython",
    "version": 3
   },
   "file_extension": ".py",
   "mimetype": "text/x-python",
   "name": "python",
   "nbconvert_exporter": "python",
   "pygments_lexer": "ipython3",
   "version": "3.8.5"
  }
 },
 "nbformat": 4,
 "nbformat_minor": 4
}
