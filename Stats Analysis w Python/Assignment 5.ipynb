{
 "cells": [
  {
   "cell_type": "code",
   "execution_count": 1,
   "metadata": {},
   "outputs": [
    {
     "data": {
      "application/vnd.jupyter.widget-view+json": {
       "model_id": "f6981f42d9a94a9fb3f44d8684170ece",
       "version_major": 2,
       "version_minor": 0
      },
      "text/plain": [
       "interactive(children=(IntSlider(value=10, description='alpha', max=20, min=1), IntSlider(value=10, description…"
      ]
     },
     "metadata": {},
     "output_type": "display_data"
    }
   ],
   "source": [
    "%matplotlib inline\n",
    "from ipywidgets import *\n",
    "import numpy as np\n",
    "import matplotlib as mpl\n",
    "import matplotlib.pyplot as plt\n",
    "import seaborn as sns\n",
    "import math\n",
    "from scipy.stats import gamma\n",
    "from scipy.optimize import fsolve\n",
    "\n",
    "sns.set_context(\"poster\")\n",
    "sns.set_style(\"ticks\")\n",
    "\n",
    "def update_gamma(alpha,beta):\n",
    "\n",
    "    x = np.linspace(0, 40, 1000)\n",
    "    y = gamma.pdf(x,alpha,scale=1/beta)\n",
    "     \n",
    "    fig = plt.figure()\n",
    "    ax = fig.add_subplot(1, 1, 1)\n",
    "    ax.plot(x, y)\n",
    "    ax.set_xlabel('x')\n",
    "    ax.set_ylabel('f(x)')\n",
    "    plt.tight_layout()\n",
    "\n",
    "    plt.show()\n",
    "\n",
    "w = interactive(update_gamma, alpha=(1,20), beta=(0,20))\n",
    "display(w)"
   ]
  },
  {
   "cell_type": "code",
   "execution_count": 6,
   "metadata": {},
   "outputs": [],
   "source": [
    "def create_graph():\n",
    "    x = np.linspace(0,40,100)\n",
    "    y = gamma.pdf(x, 3.2, scale=1/0.25)\n",
    "    y1 = gamma.pdf(x, 7.7, scale=1/3.25)\n",
    "    \n",
    "    \n",
    "    plt.plot(x,y, color = \"r\", label = \"Prior\")\n",
    "    plt.plot(x,y1, color = \"b\", label = \"Posterior\")\n",
    "  "
   ]
  },
  {
   "cell_type": "code",
   "execution_count": 7,
   "metadata": {},
   "outputs": [
    {
     "name": "stdout",
     "output_type": "stream",
     "text": [
      "None\n"
     ]
    },
    {
     "data": {
      "image/png": "[encoded data removed]",
      "text/plain": [
       "<Figure size 432x288 with 1 Axes>"
      ]
     },
     "metadata": {},
     "output_type": "display_data"
    }
   ],
   "source": [
    "print(create_graph())"
   ]
  },
  {
   "cell_type": "code",
   "execution_count": 41,
   "metadata": {},
   "outputs": [
    {
     "name": "stdout",
     "output_type": "stream",
     "text": [
      "[0.73747428]\n"
     ]
    }
   ],
   "source": [
    "def gamma_eqn_to_solve(x, a, b, c = 0.95):\n",
    "\n",
    "    # Mean of the distribution\n",
    "\n",
    "    return 1 - gamma.cdf(x, a, scale=1/b) - c\n",
    "\n",
    "def get_conf_limits ( a, b, conf_level = 0.95 ):\n",
    "\n",
    "    # Mean of the distribution\n",
    "    \n",
    "    sol = fsolve(gamma_eqn_to_solve, x0 = 0.1, args=(a, b, conf_level))\n",
    "    return sol\n",
    "\n",
    "a_posterior = 3.2\n",
    "b_posterior = 1.25\n",
    "    \n",
    "print(get_conf_limits(a_posterior,b_posterior))"
   ]
  },
  {
   "cell_type": "code",
   "execution_count": null,
   "metadata": {},
   "outputs": [],
   "source": []
  }
 ],
 "metadata": {
  "kernelspec": {
   "display_name": "Python 3",
   "language": "python",
   "name": "python3"
  },
  "language_info": {
   "codemirror_mode": {
    "name": "ipython",
    "version": 3
   },
   "file_extension": ".py",
   "mimetype": "text/x-python",
   "name": "python",
   "nbconvert_exporter": "python",
   "pygments_lexer": "ipython3",
   "version": "3.8.5"
  }
 },
 "nbformat": 4,
 "nbformat_minor": 4
}
