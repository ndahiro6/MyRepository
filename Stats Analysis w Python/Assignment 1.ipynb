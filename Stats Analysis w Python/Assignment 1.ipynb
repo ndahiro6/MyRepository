{
 "cells": [
  {
   "cell_type": "code",
   "execution_count": null,
   "metadata": {},
   "outputs": [],
   "source": [
    "import numpy as np\n",
    "import matplotlib as mpl\n",
    "import matplotlib.pyplot as plt\n",
    "import seaborn as sns\n",
    "\n",
    "def shot_attempt ( p ):\n",
    "    if np.random.random_sample() < p:\n",
    "        \n",
    "        return 1\n",
    "\n",
    "    return 0\n",
    "\n",
    "#define a function for getting the probability of X winning\n",
    "def get_pi (n):\n",
    "    \n",
    "    c=[]\n",
    "    for i in range (0,n):\n",
    "    \n",
    "        x=shot_attempt(1/3)\n",
    "    \n",
    "        if x == 1:\n",
    "            c.append(int(x))\n",
    "\n",
    "    pi=(sum(c))/n\n",
    "    return pi\n",
    "\n",
    "\n",
    "#assume the number of attempts is nine \n",
    "\n",
    "x = [1,2,3,4,5,6,7,8,9]\n",
    "\n",
    "#create an empty set for the probability of X winning after nine iterations\n",
    "\n",
    "y= []\n",
    "\n",
    "for a in range (1,10):\n",
    "    y.append(get_pi(n=a))\n",
    "\n",
    "#finally make a plot of y vs x i.e., probability vs number of attempts\n",
    "\n",
    "\n",
    "plt.plot(x, y) \n",
    "    \n",
    "\n",
    "plt.xlabel('n') \n",
    "# naming the y axis \n",
    "plt.ylabel('pi(x)') \n",
    "    \n",
    "# giving a title to my graph \n",
    "plt.title('PROBABILITY OF X WINNING') \n",
    "    \n",
    "# function to show the plot \n",
    "plt.show() \n",
    "\n",
    "\n"
   ]
  },
  {
   "cell_type": "code",
   "execution_count": null,
   "metadata": {},
   "outputs": [],
   "source": []
  }
 ],
 "metadata": {
  "kernelspec": {
   "display_name": "Python 3",
   "language": "python",
   "name": "python3"
  },
  "language_info": {
   "codemirror_mode": {
    "name": "ipython",
    "version": 3
   },
   "file_extension": ".py",
   "mimetype": "text/x-python",
   "name": "python",
   "nbconvert_exporter": "python",
   "pygments_lexer": "ipython3",
   "version": "3.8.5"
  }
 },
 "nbformat": 4,
 "nbformat_minor": 4
}
