{
 "cells": [
  {
   "cell_type": "code",
   "execution_count": 19,
   "metadata": {},
   "outputs": [
    {
     "name": "stdout",
     "output_type": "stream",
     "text": [
      "[0 0 0 0 0 0 0 0 0 0 0 0 0 0 0 0 0 0 0 0 0 0 0 0 0 0 0 0 0 0 0 0 0 0 0 0 0\n",
      " 0 0 0 0 0 0 0 0 0 0 0 0 0 0 0 0 0 0 0 0 0 0 0 0 0 0 0 0 0 0 0 0 0 0 0 0 0\n",
      " 0 0 0 0 0 0 0 0 0 0 0 0 0 0 0 0 0 0 0 0 0 0 0 0 0 0]\n",
      "<class 'numpy.ndarray'>\n"
     ]
    }
   ],
   "source": [
    "from scipy.stats import bernoulli\n",
    "import numpy as np\n",
    "import matplotlib as mpl\n",
    "import matplotlib.pyplot as plt\n",
    "import seaborn as sns\n",
    "\n",
    "def member_health_status(n, p):\n",
    "# Get random variable\n",
    "    H = bernoulli(p)\n",
    "\n",
    "# Return health status\n",
    "    return H.rvs(size=n)\n",
    "\n",
    "print(member_health_status(100,0.001))\n",
    "print(type(member_health_status(100,0.001)))"
   ]
  },
  {
   "cell_type": "code",
   "execution_count": 20,
   "metadata": {},
   "outputs": [
    {
     "name": "stdout",
     "output_type": "stream",
     "text": [
      "10\n"
     ]
    }
   ],
   "source": [
    "def number_test_kits (n,p):\n",
    "    Y=member_health_status(n,p)\n",
    "    X=0\n",
    "    for i in Y:\n",
    "        X=X+i\n",
    "    \n",
    "    return 10+(X*100)\n",
    "    \n",
    "print(number_test_kits(100,0.001))"
   ]
  },
  {
   "cell_type": "code",
   "execution_count": 23,
   "metadata": {},
   "outputs": [
    {
     "name": "stdout",
     "output_type": "stream",
     "text": [
      "111.5\n"
     ]
    }
   ],
   "source": [
    "def expected_number_kits (n,p,Nu):\n",
    "    x=0\n",
    "    for i in range (0,Nu):\n",
    "        \n",
    "        a=number_test_kits(n,p)\n",
    "        \n",
    "        x=x+a\n",
    "    return x/Nu\n",
    "\n",
    "print(expected_number_kits(100,0.01,10000))\n",
    "    "
   ]
  },
  {
   "cell_type": "code",
   "execution_count": 24,
   "metadata": {},
   "outputs": [
    {
     "name": "stdout",
     "output_type": "stream",
     "text": [
      "[0.002, 0.004, 0.006, 0.008, 0.01]\n",
      "[30.4, 49.52, 68.72, 91.52, 111.27]\n"
     ]
    },
    {
     "data": {
      "image/png": "[encoded data removed]",
      "text/plain": [
       "<Figure size 432x288 with 1 Axes>"
      ]
     },
     "metadata": {
      "needs_background": "light"
     },
     "output_type": "display_data"
    },
    {
     "name": "stdout",
     "output_type": "stream",
     "text": [
      "None\n"
     ]
    }
   ],
   "source": [
    "def make_a_plot(x):\n",
    "    y=[]\n",
    "    for i in x:\n",
    "        #member_health_status(100, i)\n",
    "        b=expected_number_kits(100,i,10000)\n",
    "        y.append(b)\n",
    "    print(x)\n",
    "    print(y)\n",
    "    \n",
    "   \n",
    "    plt.plot(x, y) \n",
    "    \n",
    "\n",
    "    plt.xlabel('p') \n",
    " \n",
    "    plt.ylabel('Nt') \n",
    "    \n",
    " \n",
    "    plt.title('Nt vs Probability') \n",
    "    \n",
    " \n",
    "    plt.show() \n",
    "\n",
    "print(make_a_plot([0.002, 0.004, 0.006, 0.008, 0.01]))"
   ]
  },
  {
   "cell_type": "code",
   "execution_count": null,
   "metadata": {},
   "outputs": [],
   "source": []
  }
 ],
 "metadata": {
  "kernelspec": {
   "display_name": "Python 3",
   "language": "python",
   "name": "python3"
  },
  "language_info": {
   "codemirror_mode": {
    "name": "ipython",
    "version": 3
   },
   "file_extension": ".py",
   "mimetype": "text/x-python",
   "name": "python",
   "nbconvert_exporter": "python",
   "pygments_lexer": "ipython3",
   "version": "3.8.5"
  }
 },
 "nbformat": 4,
 "nbformat_minor": 4
}
